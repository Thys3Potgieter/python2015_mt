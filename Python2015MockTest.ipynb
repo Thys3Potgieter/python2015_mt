{
 "metadata": {
  "name": "",
  "signature": "sha256:104a2acadd6d700d1944f22974b847a72feae396d85e5792b5ce25bba227a176"
 },
 "nbformat": 3,
 "nbformat_minor": 0,
 "worksheets": [
  {
   "cells": [
    {
     "cell_type": "markdown",
     "metadata": {},
     "source": [
      "To complete this test:\n",
      "\n",
      "1. Fork the github repository https://github.com/pvanheus/python2015_mt\n",
      "\n",
      "2. Clone your forked repository (not the original) using `git clone`\n",
      "\n",
      "3. `cd` into the resulting `python2015_mt` directory and start `ipython notebook` there.\n",
      "\n",
      "4. Complete the exercises in the notebook, ensuring that the `assert` statements in the notebook don't generate errors.\n",
      "\n",
      "5. Save the notebook and commit it to your git repository (with `git add` and `git commit`).\n",
      "\n",
      "6. Push the final notebook to GitHub (`git push`) and send an email with a subject line like `PY2015MT https://github.com/exampleuser/python2015_mt` to pvh@sanbi.ac.za.\n",
      "\n",
      "Don't modify the code that is included in this notebook - it contains assert statements to check your answers. When your code is correct this notebook should run completely (Cell -> Run All) without errors."
     ]
    },
    {
     "cell_type": "markdown",
     "metadata": {},
     "source": [
      "**(1)** Write a function `count_words(astring)` that counts the words in a string. So for example `count_words(\"hello world\")` should return 2."
     ]
    },
    {
     "cell_type": "code",
     "collapsed": false,
     "input": [
      "def count_words(astring):\n",
      "    words = astring.split()\n",
      "    return len(words)"
     ],
     "language": "python",
     "metadata": {},
     "outputs": [],
     "prompt_number": 1
    },
    {
     "cell_type": "code",
     "collapsed": false,
     "input": [
      "mystring = \"a common treasury for all\"\n",
      "assert count_words(mystring) == 5, \"expected a count of 5 words\""
     ],
     "language": "python",
     "metadata": {},
     "outputs": [],
     "prompt_number": 2
    },
    {
     "cell_type": "markdown",
     "metadata": {},
     "source": [
      "**(2)** Write a function `find_longest_word(astring)` that takes a list of words and returns the length of the longest one. For example `find_longest_word(\"The Great Pirate Rogers\")` should return 6."
     ]
    },
    {
     "cell_type": "code",
     "collapsed": false,
     "input": [
      "def find_longest_word(astring):\n",
      "    words = astring.split()\n",
      "    max_length = 0\n",
      "    for word in words:\n",
      "        word_len = len(word)\n",
      "        if word_len > max_length:\n",
      "            max_length = word_len\n",
      "    return max_length"
     ],
     "language": "python",
     "metadata": {},
     "outputs": [],
     "prompt_number": 3
    },
    {
     "cell_type": "code",
     "collapsed": false,
     "input": [
      "def find_longest_word2(astring):\n",
      "    words = astring.split()\n",
      "    lengths = []\n",
      "    for word in words:\n",
      "        lengths.append(len(word))\n",
      "    max_length = max(lengths)\n",
      "    return max_length"
     ],
     "language": "python",
     "metadata": {},
     "outputs": []
    },
    {
     "cell_type": "code",
     "collapsed": false,
     "input": [
      "def find_longest_word3(astring):\n",
      "    words = astring.split()\n",
      "    lengths = []\n",
      "    for word in words:\n",
      "        lengths.append(len(word))\n",
      "    sorted_lengths = sorted(lengths)\n",
      "    max_length = sorted_lengths[-1]\n",
      "    return max_length"
     ],
     "language": "python",
     "metadata": {},
     "outputs": []
    },
    {
     "cell_type": "code",
     "collapsed": false,
     "input": [
      "def find_longest_word4(astring):\n",
      "    return max([len(word) for word in astring.split()])"
     ],
     "language": "python",
     "metadata": {},
     "outputs": [],
     "prompt_number": 28
    },
    {
     "cell_type": "code",
     "collapsed": false,
     "input": [
      "def find_longest_word5(astring):\n",
      "    words = astring.split()\n",
      "    longest_words = [len(word) for word in words]\n",
      "    print \"longest words:\", longest_words\n",
      "    max_length = max(longest_words)\n",
      "    return max_length"
     ],
     "language": "python",
     "metadata": {},
     "outputs": [],
     "prompt_number": 31
    },
    {
     "cell_type": "code",
     "collapsed": false,
     "input": [
      "mystring = \"Red Riding Hood\"\n",
      "assert find_longest_word(mystring) == 6, \"expected a length of 6\""
     ],
     "language": "python",
     "metadata": {},
     "outputs": [],
     "prompt_number": 4
    },
    {
     "cell_type": "markdown",
     "metadata": {},
     "source": [
      "**(3)** The following cell contains the definition for a function `is_sorted(alist)` that takes a list of strings as an argument and returns `True` if the list is sorted in ascending order and returns `False` if it is not. E.g `is_sorted([\"a\", \"dog\", \"jumped\"])` should return `True` and `is_sorted([\"an\", \"owl\", \"hooted\"])` should return `False`. The code has bugs. Fix them."
     ]
    },
    {
     "cell_type": "code",
     "collapsed": false,
     "input": [
      "def is_sorted(alist):\n",
      "    for i in range(len(thelist)):\n",
      "        word1 = thelist[i]\n",
      "        word2 = thelist[i+1]\n",
      "        if word1 > word2:\n",
      "            return False"
     ],
     "language": "python",
     "metadata": {},
     "outputs": []
    },
    {
     "cell_type": "code",
     "collapsed": false,
     "input": [
      "def is_sorted(thelist):\n",
      "    for i in range(len(thelist)-1):\n",
      "        word1 = thelist[i]\n",
      "        word2 = thelist[i+1]\n",
      "        if word1 > word2:\n",
      "            return False\n",
      "    return True"
     ],
     "language": "python",
     "metadata": {},
     "outputs": [],
     "prompt_number": 32
    },
    {
     "cell_type": "code",
     "collapsed": false,
     "input": [
      "assert is_sorted([\"a\", \"dog\", \"jumped\"]) == True, \"expected True\"\n",
      "assert is_sorted([\"an\", \"owl\", \"hooted\"]) == False, \"expected False\""
     ],
     "language": "python",
     "metadata": {},
     "outputs": [],
     "prompt_number": 33
    },
    {
     "cell_type": "markdown",
     "metadata": {},
     "source": [
      "**(4)** The `wc` program counts lines, characters and words in a file. Define a function `file_stats(input_file)` that returns a tuple containing line, word and character count. E.g. for a file `little.txt` containing the following text:\n",
      "\n",
      "````\n",
      "Mary had a little lamb\n",
      "its fleece was white as snow\n",
      "and everywhere that Mary went\n",
      "that lamb was sure to go.\n",
      "````\n",
      "\n",
      "E.g. presuming that there had already been\n",
      "\n",
      "    input_file = open('little.txt')\n",
      "\n",
      "`file_stats(input_file)` should return `(4, 22, 108)`."
     ]
    },
    {
     "cell_type": "code",
     "collapsed": false,
     "input": [
      "def file_stats(input_file):\n",
      "    lc = wc = cc = 0\n",
      "    for line in input_file:\n",
      "        lc += 1\n",
      "        wc += len(line.split())\n",
      "        cc += len(line)\n",
      "    return (lc, wc, cc)"
     ],
     "language": "python",
     "metadata": {},
     "outputs": [],
     "prompt_number": 34
    },
    {
     "cell_type": "code",
     "collapsed": false,
     "input": [
      "input_file = open('little.txt')\n",
      "print file_stats(input_file)"
     ],
     "language": "python",
     "metadata": {},
     "outputs": [
      {
       "output_type": "stream",
       "stream": "stdout",
       "text": [
        "(4, 22, 108)\n"
       ]
      }
     ],
     "prompt_number": 35
    },
    {
     "cell_type": "code",
     "collapsed": false,
     "input": [
      "def file_stats2(input_file):\n",
      "    cc = lc = wc = 0\n",
      "    for line in input_file:\n",
      "        lc += 1\n",
      "        words = line.split()\n",
      "        for word in words:\n",
      "            wc += 1\n",
      "        for char in line:\n",
      "            cc += 1\n",
      "    return (lc, wc, cc)"
     ],
     "language": "python",
     "metadata": {},
     "outputs": [],
     "prompt_number": 37
    },
    {
     "cell_type": "code",
     "collapsed": true,
     "input": [
      "import StringIO\n",
      "text = \"\"\"For a cellular protein to act,\n",
      "Make your deltoids or sphincter contract.\n",
      "If you're squeezin' your pecs,\n",
      "Havin' quadriceps flex,\n",
      "Then it's actin that's actin', in fact.\n",
      "\"\"\"\n",
      "assert file_stats(StringIO.StringIO(text)) == (5, 27, 168), \"expected (5, 27, 168)\""
     ],
     "language": "python",
     "metadata": {},
     "outputs": [],
     "prompt_number": 36
    },
    {
     "cell_type": "markdown",
     "metadata": {},
     "source": [
      "**(5)** Using the `file_stats(input_file)` function, write a script `file_stats.py` that takes a filename as its parameter and prints out the stats. This script should be saved in the `bin/` subdirectory of `python2015_mt` and committed to the git repository you submit. Sample output:\n",
      "\n",
      "    $ bin/file_stats.py little.txt \n",
      "        4 22 108 little.txt\n",
      "\n",
      "The script should check:\n",
      "\n",
      "1. That the number of command line arguments is correct and\n",
      "\n",
      "2. That the file can be opened without an error.\n",
      "\n",
      "and provide suitable error messages."
     ]
    },
    {
     "cell_type": "code",
     "collapsed": false,
     "input": [
      "import subprocess\n",
      "import shlex\n",
      "cmd_str = 'bin/file_stats.py little.txt'\n",
      "cmd = shlex.split(cmd_str)\n",
      "output = subprocess.check_output(cmd)\n",
      "r = output.lstrip().split()\n",
      "assert int(r[0]) == 4 and int(r[1]) == 22 and int(r[2]) == 108 and r[3] == 'little.txt', \"expected output '  4 22 108 little.txt'\""
     ],
     "language": "python",
     "metadata": {},
     "outputs": [],
     "prompt_number": 13
    },
    {
     "cell_type": "markdown",
     "metadata": {},
     "source": [
      "**(6)** Write a function `gc_content(dna_str)` that returns the GC content of a DNA string as a percentage. E.g. `gc_content('AAGCAA')` returns `33.33333`."
     ]
    },
    {
     "cell_type": "code",
     "collapsed": false,
     "input": [
      "def gc_content(dna_str):\n",
      "    bases = set('ACTG')\n",
      "    counts = dict(A=0,C=0,T=0,G=0)\n",
      "    total = 0\n",
      "    for char in dna_str:\n",
      "        if char.upper() in bases:\n",
      "            counts[char] = counts[char] + 1\n",
      "            total += 1\n",
      "    gc_perc = float(counts['G'] + counts['C']) / total * 100\n",
      "    return gc_perc"
     ],
     "language": "python",
     "metadata": {},
     "outputs": [],
     "prompt_number": 39
    },
    {
     "cell_type": "code",
     "collapsed": false,
     "input": [
      "def gc_content2(dna_str):\n",
      "    bases = set('ACTG')\n",
      "    counts = dict()\n",
      "    total = 0\n",
      "    for char in dna_str:\n",
      "        if char.upper() in bases:\n",
      "            counts[char] = counts.get(char, 0) + 1\n",
      "            total += 1\n",
      "    gc_perc = float(counts['G'] + counts['C']) / total * 100\n",
      "    return gc_perc"
     ],
     "language": "python",
     "metadata": {},
     "outputs": [],
     "prompt_number": 40
    },
    {
     "cell_type": "code",
     "collapsed": false,
     "input": [
      "def gc_content3(dna_str):\n",
      "    gc = ['G','C']\n",
      "    n_count = 0\n",
      "    gc_count = 0\n",
      "    for char in dna_str.upper():\n",
      "        if char == 'N':\n",
      "            n_count += 1\n",
      "        elif char in gc:\n",
      "            gc_count += 1\n",
      "    gc_perc = float(gc_count) / (len(dna_str) - n_count) * 100\n",
      "    return gc_perc\n",
      "gc_content3('GATACCAN')"
     ],
     "language": "python",
     "metadata": {},
     "outputs": [
      {
       "metadata": {},
       "output_type": "pyout",
       "prompt_number": 47,
       "text": [
        "42.857142857142854"
       ]
      }
     ],
     "prompt_number": 47
    },
    {
     "cell_type": "code",
     "collapsed": false,
     "input": [
      "def gc_content4(dna_str):\n",
      "    a = c = g = t = 0\n",
      "    for base in dna_str.upper():\n",
      "        if base == 'A':\n",
      "            a += 1\n",
      "        elif base == 'T':\n",
      "            t += 1\n",
      "        elif base == 'C':\n",
      "            c += 1\n",
      "        elif base == 'G':\n",
      "            g += 1\n",
      "    gc_perc = (g + c) / float(a + t + g + c) * 100\n",
      "    return gc_perc\n",
      "gc_content4('GATACCAN')"
     ],
     "language": "python",
     "metadata": {},
     "outputs": [
      {
       "metadata": {},
       "output_type": "pyout",
       "prompt_number": 46,
       "text": [
        "42.857142857142854"
       ]
      }
     ],
     "prompt_number": 46
    },
    {
     "cell_type": "code",
     "collapsed": false,
     "input": [
      "def gc_content5(dna_str):\n",
      "    dna_str = dna_str.upper()\n",
      "    a = dna_str.count('A')\n",
      "    t = dna_str.count('T')\n",
      "    c = dna_str.count('C')\n",
      "    g = dna_str.count('G')\n",
      "    gc_perc = (g + c) / float(a + t + g + c) * 100\n",
      "    return gc_perc\n",
      "gc_content5('GATACCAN')"
     ],
     "language": "python",
     "metadata": {},
     "outputs": [
      {
       "metadata": {},
       "output_type": "pyout",
       "prompt_number": 48,
       "text": [
        "42.857142857142854"
       ]
      }
     ],
     "prompt_number": 48
    },
    {
     "cell_type": "code",
     "collapsed": false,
     "input": [
      "assert int(gc_content('GATACCAN')) == 42, \"expected 42\""
     ],
     "language": "python",
     "metadata": {},
     "outputs": [],
     "prompt_number": 16
    },
    {
     "cell_type": "markdown",
     "metadata": {},
     "source": [
      "**(7)** Make a module `seq_stats.py` and put the `gc_content(dna_str)` function in it, so that it can be used liked this:\n",
      "\n",
      "````\n",
      "import seq_stats\n",
      "gc_percent = gc_content(\"GATACCAN\")\n",
      "````\n",
      "\n",
      "The `seq_stats.py` module should be placed in the `lib/` subdirectory of your `python2015_mt` directory and commit to your git repository. Set the PYTHONPATH environment variable so that the `import` works.\n",
      "\n",
      "The BioPython module's `Bio.SeqIO.parse` can be used to read sequences from a file in FASTA format. Write a script `gc_info.py` that computes the GC content of each sequence in a FASTA file and prints out the sequence identifier and the GC content of the sequence as a percentage. A file `sample.fasta` has been provided to test with. The output for `sample.fasta` should be as follows:\n",
      "\n",
      "    $ bin/gc_info.py sample.fasta \n",
      "    gi|2765658|emb|Z78533.1|CIZ78533 59%\n",
      "    gi|2765657|emb|Z78532.1|CCZ78532 48%\n"
     ]
    },
    {
     "cell_type": "code",
     "collapsed": false,
     "input": [
      "import subprocess\n",
      "import shlex\n",
      "import StringIO\n",
      "import sys\n",
      "import os\n",
      "import os.path\n",
      "\n",
      "os.environ['PYTHONPATH'] = os.path.join(os.getcwd(), 'lib')\n",
      "cmd_str = 'bin/gc_info.py sample.fasta'\n",
      "cmd = shlex.split(cmd_str)\n",
      "try:\n",
      "    output = subprocess.check_output(cmd)\n",
      "except subprocess.CalledProcessError as e:\n",
      "    print >>sys.stderr, \"Failed to run: {}\".format(e)\n",
      "else:\n",
      "    for line in StringIO.StringIO(output):\n",
      "        fields = line.rstrip().split()\n",
      "        if fields[0] == 'gi|2765658|emb|Z78533.1|CIZ78533':\n",
      "            assert fields[1] == '59%', \"expected 59% for sequence gi|2765658|emb|Z78533.1|CIZ78533\"\n",
      "        elif fields[0] == 'gi|2765657|emb|Z78532.1|CCZ78532':\n",
      "            assert fields[1] == '48%', \"expected 48% for sequence gi|2765657|emb|Z78532.1|CCZ78532\""
     ],
     "language": "python",
     "metadata": {},
     "outputs": [],
     "prompt_number": 17
    },
    {
     "cell_type": "code",
     "collapsed": false,
     "input": [],
     "language": "python",
     "metadata": {},
     "outputs": []
    }
   ],
   "metadata": {}
  }
 ]
}